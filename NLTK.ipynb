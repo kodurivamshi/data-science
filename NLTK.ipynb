{
 "cells": [
  {
   "cell_type": "markdown",
   "metadata": {},
   "source": [
    "# SENTENCE_TOKENIZE"
   ]
  },
  {
   "cell_type": "code",
   "execution_count": 1,
   "metadata": {},
   "outputs": [],
   "source": [
    "import nltk"
   ]
  },
  {
   "cell_type": "code",
   "execution_count": 2,
   "metadata": {},
   "outputs": [],
   "source": [
    "from nltk.tokenize import sent_tokenize"
   ]
  },
  {
   "cell_type": "code",
   "execution_count": 3,
   "metadata": {},
   "outputs": [
    {
     "data": {
      "text/plain": [
       "['Hi.', 'Bye.', 'Vamshi.']"
      ]
     },
     "execution_count": 3,
     "metadata": {},
     "output_type": "execute_result"
    }
   ],
   "source": [
    "sent_tokenize(\"Hi. Bye. Vamshi.\")"
   ]
  },
  {
   "cell_type": "code",
   "execution_count": 4,
   "metadata": {},
   "outputs": [],
   "source": [
    "import nltk.data"
   ]
  },
  {
   "cell_type": "code",
   "execution_count": 5,
   "metadata": {},
   "outputs": [],
   "source": [
    "token=nltk.data.load('tokenizers/punkt/english.pickle')"
   ]
  },
  {
   "cell_type": "code",
   "execution_count": 6,
   "metadata": {},
   "outputs": [
    {
     "data": {
      "text/plain": [
       "['Hi.', 'Bye.', 'Vamshi.']"
      ]
     },
     "execution_count": 6,
     "metadata": {},
     "output_type": "execute_result"
    }
   ],
   "source": [
    "token.tokenize('Hi. Bye. Vamshi.')"
   ]
  },
  {
   "cell_type": "markdown",
   "metadata": {},
   "source": [
    "# WORD Tokenize"
   ]
  },
  {
   "cell_type": "code",
   "execution_count": 7,
   "metadata": {},
   "outputs": [
    {
     "data": {
      "text/plain": [
       "['hi', 'this', 'is', 'vamshi']"
      ]
     },
     "execution_count": 7,
     "metadata": {},
     "output_type": "execute_result"
    }
   ],
   "source": [
    "from nltk.tokenize import word_tokenize\n",
    "word_tokenize('hi this is vamshi')"
   ]
  },
  {
   "cell_type": "code",
   "execution_count": 8,
   "metadata": {},
   "outputs": [
    {
     "data": {
      "text/plain": [
       "['hi', 'this', 'is', 'vamshi']"
      ]
     },
     "execution_count": 8,
     "metadata": {},
     "output_type": "execute_result"
    }
   ],
   "source": [
    "from nltk.tokenize import WordPunctTokenizer\n",
    "tok1=WordPunctTokenizer()\n",
    "tok1.tokenize('hi this is vamshi')"
   ]
  },
  {
   "cell_type": "code",
   "execution_count": 9,
   "metadata": {},
   "outputs": [
    {
     "data": {
      "text/plain": [
       "['hi', 'this', 'is', 'vamshi']"
      ]
     },
     "execution_count": 9,
     "metadata": {},
     "output_type": "execute_result"
    }
   ],
   "source": [
    "from nltk.tokenize import TreebankWordTokenizer\n",
    "tok2=TreebankWordTokenizer()\n",
    "tok2.tokenize('hi this is vamshi')"
   ]
  },
  {
   "cell_type": "code",
   "execution_count": 10,
   "metadata": {},
   "outputs": [],
   "source": [
    "sen=\"I won't let u go out\""
   ]
  },
  {
   "cell_type": "code",
   "execution_count": 11,
   "metadata": {},
   "outputs": [
    {
     "data": {
      "text/plain": [
       "['I', 'wo', \"n't\", 'let', 'u', 'go', 'out']"
      ]
     },
     "execution_count": 11,
     "metadata": {},
     "output_type": "execute_result"
    }
   ],
   "source": [
    "word_tokenize(sen)"
   ]
  },
  {
   "cell_type": "code",
   "execution_count": 12,
   "metadata": {},
   "outputs": [
    {
     "data": {
      "text/plain": [
       "['I', 'won', \"'\", 't', 'let', 'u', 'go', 'out']"
      ]
     },
     "execution_count": 12,
     "metadata": {},
     "output_type": "execute_result"
    }
   ],
   "source": [
    "from nltk.tokenize import WordPunctTokenizer\n",
    "tok1=WordPunctTokenizer()\n",
    "tok1.tokenize(sen)"
   ]
  },
  {
   "cell_type": "code",
   "execution_count": 13,
   "metadata": {},
   "outputs": [
    {
     "data": {
      "text/plain": [
       "['I', 'wo', \"n't\", 'let', 'u', 'go', 'out']"
      ]
     },
     "execution_count": 13,
     "metadata": {},
     "output_type": "execute_result"
    }
   ],
   "source": [
    "from nltk.tokenize import TreebankWordTokenizer\n",
    "tok2=TreebankWordTokenizer()\n",
    "tok2.tokenize(sen)"
   ]
  },
  {
   "cell_type": "code",
   "execution_count": 14,
   "metadata": {},
   "outputs": [
    {
     "data": {
      "text/plain": [
       "['I', \"won't\", 'let', 'u', 'go', 'out']"
      ]
     },
     "execution_count": 14,
     "metadata": {},
     "output_type": "execute_result"
    }
   ],
   "source": [
    "from nltk.tokenize import regexp_tokenize\n",
    "regexp_tokenize(sen,\"[\\w']+\")"
   ]
  },
  {
   "cell_type": "code",
   "execution_count": 15,
   "metadata": {},
   "outputs": [
    {
     "data": {
      "text/plain": [
       "['I', \"won't\", 'let', 'u', 'go', 'out']"
      ]
     },
     "execution_count": 15,
     "metadata": {},
     "output_type": "execute_result"
    }
   ],
   "source": [
    "from nltk.tokenize import RegexpTokenizer\n",
    "tok3=RegexpTokenizer(\"[\\w']+\")\n",
    "tok3.tokenize(sen)"
   ]
  },
  {
   "cell_type": "markdown",
   "metadata": {},
   "source": [
    "# STOP WORDS"
   ]
  },
  {
   "cell_type": "code",
   "execution_count": 16,
   "metadata": {},
   "outputs": [
    {
     "name": "stdout",
     "output_type": "stream",
     "text": [
      "179\n"
     ]
    },
    {
     "data": {
      "text/plain": [
       "{'a',\n",
       " 'about',\n",
       " 'above',\n",
       " 'after',\n",
       " 'again',\n",
       " 'against',\n",
       " 'ain',\n",
       " 'all',\n",
       " 'am',\n",
       " 'an',\n",
       " 'and',\n",
       " 'any',\n",
       " 'are',\n",
       " 'aren',\n",
       " \"aren't\",\n",
       " 'as',\n",
       " 'at',\n",
       " 'be',\n",
       " 'because',\n",
       " 'been',\n",
       " 'before',\n",
       " 'being',\n",
       " 'below',\n",
       " 'between',\n",
       " 'both',\n",
       " 'but',\n",
       " 'by',\n",
       " 'can',\n",
       " 'couldn',\n",
       " \"couldn't\",\n",
       " 'd',\n",
       " 'did',\n",
       " 'didn',\n",
       " \"didn't\",\n",
       " 'do',\n",
       " 'does',\n",
       " 'doesn',\n",
       " \"doesn't\",\n",
       " 'doing',\n",
       " 'don',\n",
       " \"don't\",\n",
       " 'down',\n",
       " 'during',\n",
       " 'each',\n",
       " 'few',\n",
       " 'for',\n",
       " 'from',\n",
       " 'further',\n",
       " 'had',\n",
       " 'hadn',\n",
       " \"hadn't\",\n",
       " 'has',\n",
       " 'hasn',\n",
       " \"hasn't\",\n",
       " 'have',\n",
       " 'haven',\n",
       " \"haven't\",\n",
       " 'having',\n",
       " 'he',\n",
       " 'her',\n",
       " 'here',\n",
       " 'hers',\n",
       " 'herself',\n",
       " 'him',\n",
       " 'himself',\n",
       " 'his',\n",
       " 'how',\n",
       " 'i',\n",
       " 'if',\n",
       " 'in',\n",
       " 'into',\n",
       " 'is',\n",
       " 'isn',\n",
       " \"isn't\",\n",
       " 'it',\n",
       " \"it's\",\n",
       " 'its',\n",
       " 'itself',\n",
       " 'just',\n",
       " 'll',\n",
       " 'm',\n",
       " 'ma',\n",
       " 'me',\n",
       " 'mightn',\n",
       " \"mightn't\",\n",
       " 'more',\n",
       " 'most',\n",
       " 'mustn',\n",
       " \"mustn't\",\n",
       " 'my',\n",
       " 'myself',\n",
       " 'needn',\n",
       " \"needn't\",\n",
       " 'no',\n",
       " 'nor',\n",
       " 'not',\n",
       " 'now',\n",
       " 'o',\n",
       " 'of',\n",
       " 'off',\n",
       " 'on',\n",
       " 'once',\n",
       " 'only',\n",
       " 'or',\n",
       " 'other',\n",
       " 'our',\n",
       " 'ours',\n",
       " 'ourselves',\n",
       " 'out',\n",
       " 'over',\n",
       " 'own',\n",
       " 're',\n",
       " 's',\n",
       " 'same',\n",
       " 'shan',\n",
       " \"shan't\",\n",
       " 'she',\n",
       " \"she's\",\n",
       " 'should',\n",
       " \"should've\",\n",
       " 'shouldn',\n",
       " \"shouldn't\",\n",
       " 'so',\n",
       " 'some',\n",
       " 'such',\n",
       " 't',\n",
       " 'than',\n",
       " 'that',\n",
       " \"that'll\",\n",
       " 'the',\n",
       " 'their',\n",
       " 'theirs',\n",
       " 'them',\n",
       " 'themselves',\n",
       " 'then',\n",
       " 'there',\n",
       " 'these',\n",
       " 'they',\n",
       " 'this',\n",
       " 'those',\n",
       " 'through',\n",
       " 'to',\n",
       " 'too',\n",
       " 'under',\n",
       " 'until',\n",
       " 'up',\n",
       " 've',\n",
       " 'very',\n",
       " 'was',\n",
       " 'wasn',\n",
       " \"wasn't\",\n",
       " 'we',\n",
       " 'were',\n",
       " 'weren',\n",
       " \"weren't\",\n",
       " 'what',\n",
       " 'when',\n",
       " 'where',\n",
       " 'which',\n",
       " 'while',\n",
       " 'who',\n",
       " 'whom',\n",
       " 'why',\n",
       " 'will',\n",
       " 'with',\n",
       " 'won',\n",
       " \"won't\",\n",
       " 'wouldn',\n",
       " \"wouldn't\",\n",
       " 'y',\n",
       " 'you',\n",
       " \"you'd\",\n",
       " \"you'll\",\n",
       " \"you're\",\n",
       " \"you've\",\n",
       " 'your',\n",
       " 'yours',\n",
       " 'yourself',\n",
       " 'yourselves'}"
      ]
     },
     "execution_count": 16,
     "metadata": {},
     "output_type": "execute_result"
    }
   ],
   "source": [
    "from nltk.corpus import stopwords\n",
    "print(len(stopwords.words('english')))\n",
    "eng=stopwords.words('english')\n",
    "eng=set(eng)\n",
    "eng"
   ]
  },
  {
   "cell_type": "code",
   "execution_count": 17,
   "metadata": {},
   "outputs": [
    {
     "data": {
      "text/plain": [
       "['What',\n",
       " 'are',\n",
       " 'you',\n",
       " 'doing',\n",
       " 'exactly',\n",
       " 'right',\n",
       " 'now',\n",
       " '?',\n",
       " 'I',\n",
       " 'wanted',\n",
       " 'to',\n",
       " 'go',\n",
       " 'to',\n",
       " 'office',\n",
       " '.']"
      ]
     },
     "execution_count": 17,
     "metadata": {},
     "output_type": "execute_result"
    }
   ],
   "source": [
    "sen=\"What are you doing exactly right now? I wanted to go to office.\"\n",
    "engarr=word_tokenize(sen)\n",
    "engarr"
   ]
  },
  {
   "cell_type": "code",
   "execution_count": 18,
   "metadata": {},
   "outputs": [
    {
     "data": {
      "text/plain": [
       "['What', 'exactly', 'right', '?', 'I', 'wanted', 'go', 'office', '.']"
      ]
     },
     "execution_count": 18,
     "metadata": {},
     "output_type": "execute_result"
    }
   ],
   "source": [
    "arr=[item for item in engarr if item not in eng]\n",
    "arr"
   ]
  },
  {
   "cell_type": "markdown",
   "metadata": {},
   "source": [
    "# WORDnet_-SYNNets--hypernyms--hyponyms"
   ]
  },
  {
   "cell_type": "raw",
   "metadata": {},
   "source": []
  },
  {
   "cell_type": "code",
   "execution_count": 19,
   "metadata": {},
   "outputs": [],
   "source": [
    "word=\"weapon\""
   ]
  },
  {
   "cell_type": "code",
   "execution_count": 20,
   "metadata": {},
   "outputs": [
    {
     "data": {
      "text/plain": [
       "[Synset('weapon.n.01'), Synset('weapon.n.02')]"
      ]
     },
     "execution_count": 20,
     "metadata": {},
     "output_type": "execute_result"
    }
   ],
   "source": [
    "from nltk.corpus import wordnet\n",
    "arr=wordnet.synsets(word)\n",
    "arr"
   ]
  },
  {
   "cell_type": "code",
   "execution_count": 21,
   "metadata": {},
   "outputs": [
    {
     "data": {
      "text/plain": [
       "'any instrument or instrumentality used in fighting or hunting'"
      ]
     },
     "execution_count": 21,
     "metadata": {},
     "output_type": "execute_result"
    }
   ],
   "source": [
    "a=arr[0]\n",
    "a.definition()"
   ]
  },
  {
   "cell_type": "code",
   "execution_count": 22,
   "metadata": {},
   "outputs": [
    {
     "data": {
      "text/plain": [
       "'weapon.n.01'"
      ]
     },
     "execution_count": 22,
     "metadata": {},
     "output_type": "execute_result"
    }
   ],
   "source": [
    "a.name()"
   ]
  },
  {
   "cell_type": "code",
   "execution_count": 23,
   "metadata": {},
   "outputs": [
    {
     "data": {
      "text/plain": [
       "'n'"
      ]
     },
     "execution_count": 23,
     "metadata": {},
     "output_type": "execute_result"
    }
   ],
   "source": [
    "a.pos()"
   ]
  },
  {
   "cell_type": "code",
   "execution_count": 24,
   "metadata": {},
   "outputs": [
    {
     "data": {
      "text/plain": [
       "[Synset('instrument.n.01')]"
      ]
     },
     "execution_count": 24,
     "metadata": {},
     "output_type": "execute_result"
    }
   ],
   "source": [
    "a.hypernyms()"
   ]
  },
  {
   "cell_type": "code",
   "execution_count": 25,
   "metadata": {},
   "outputs": [
    {
     "data": {
      "text/plain": [
       "[Synset('bow.n.04'),\n",
       " Synset('bow_and_arrow.n.01'),\n",
       " Synset('brass_knucks.n.01'),\n",
       " Synset('fire_ship.n.01'),\n",
       " Synset('flamethrower.n.01'),\n",
       " Synset('greek_fire.n.01'),\n",
       " Synset('gun.n.01'),\n",
       " Synset('knife.n.02'),\n",
       " Synset('light_arm.n.01'),\n",
       " Synset('missile.n.01'),\n",
       " Synset('pike.n.04'),\n",
       " Synset('projectile.n.01'),\n",
       " Synset('slasher.n.02'),\n",
       " Synset('sling.n.04'),\n",
       " Synset('spear.n.01'),\n",
       " Synset('stun_gun.n.01'),\n",
       " Synset('sword.n.01'),\n",
       " Synset('tomahawk.n.01'),\n",
       " Synset('weapon_of_mass_destruction.n.01')]"
      ]
     },
     "execution_count": 25,
     "metadata": {},
     "output_type": "execute_result"
    }
   ],
   "source": [
    "a.hyponyms()"
   ]
  },
  {
   "cell_type": "markdown",
   "metadata": {},
   "source": [
    "# SYNONYMS SET"
   ]
  },
  {
   "cell_type": "code",
   "execution_count": 26,
   "metadata": {},
   "outputs": [
    {
     "data": {
      "text/plain": [
       "[Synset('win.n.01'),\n",
       " Synset('winnings.n.01'),\n",
       " Synset('win.v.01'),\n",
       " Synset('acquire.v.05'),\n",
       " Synset('gain.v.05'),\n",
       " Synset('succeed.v.01')]"
      ]
     },
     "execution_count": 26,
     "metadata": {},
     "output_type": "execute_result"
    }
   ],
   "source": [
    "word='win'\n",
    "from nltk.corpus import wordnet\n",
    "syn=wordnet.synsets(word)\n",
    "syn"
   ]
  },
  {
   "cell_type": "code",
   "execution_count": 27,
   "metadata": {},
   "outputs": [
    {
     "data": {
      "text/plain": [
       "[Lemma('win.n.01.win')]"
      ]
     },
     "execution_count": 27,
     "metadata": {},
     "output_type": "execute_result"
    }
   ],
   "source": [
    "syn[0].lemmas()"
   ]
  },
  {
   "cell_type": "code",
   "execution_count": 28,
   "metadata": {},
   "outputs": [
    {
     "data": {
      "text/plain": [
       "['win',\n",
       " 'winnings',\n",
       " 'win',\n",
       " 'profits',\n",
       " 'win',\n",
       " 'acquire',\n",
       " 'win',\n",
       " 'gain',\n",
       " 'gain',\n",
       " 'advance',\n",
       " 'win',\n",
       " 'pull_ahead',\n",
       " 'make_headway',\n",
       " 'get_ahead',\n",
       " 'gain_ground',\n",
       " 'succeed',\n",
       " 'win',\n",
       " 'come_through',\n",
       " 'bring_home_the_bacon',\n",
       " 'deliver_the_goods']"
      ]
     },
     "execution_count": 28,
     "metadata": {},
     "output_type": "execute_result"
    }
   ],
   "source": [
    "synArr=[]\n",
    "for syn1 in syn:\n",
    "    for lem in syn1.lemmas():\n",
    "        synArr.append(lem.name())\n",
    "synArr"
   ]
  },
  {
   "cell_type": "code",
   "execution_count": 29,
   "metadata": {},
   "outputs": [
    {
     "data": {
      "text/plain": [
       "{'acquire',\n",
       " 'advance',\n",
       " 'bring_home_the_bacon',\n",
       " 'come_through',\n",
       " 'deliver_the_goods',\n",
       " 'gain',\n",
       " 'gain_ground',\n",
       " 'get_ahead',\n",
       " 'make_headway',\n",
       " 'profits',\n",
       " 'pull_ahead',\n",
       " 'succeed',\n",
       " 'win',\n",
       " 'winnings'}"
      ]
     },
     "execution_count": 29,
     "metadata": {},
     "output_type": "execute_result"
    }
   ],
   "source": [
    "set(synArr)"
   ]
  },
  {
   "cell_type": "markdown",
   "metadata": {},
   "source": [
    "# ANTONYMS SET"
   ]
  },
  {
   "cell_type": "code",
   "execution_count": 30,
   "metadata": {},
   "outputs": [
    {
     "data": {
      "text/plain": [
       "['losings', 'lose', 'lose', 'fall_back', 'fail']"
      ]
     },
     "execution_count": 30,
     "metadata": {},
     "output_type": "execute_result"
    }
   ],
   "source": [
    "##antonyms array\n",
    "antArr=[]\n",
    "for syn1 in syn:\n",
    "    for lem in syn1.lemmas():\n",
    "        for ant in lem.antonyms():\n",
    "            antArr.append(ant.name())\n",
    "antArr"
   ]
  },
  {
   "cell_type": "code",
   "execution_count": 31,
   "metadata": {},
   "outputs": [
    {
     "data": {
      "text/plain": [
       "{'fail', 'fall_back', 'lose', 'losings'}"
      ]
     },
     "execution_count": 31,
     "metadata": {},
     "output_type": "execute_result"
    }
   ],
   "source": [
    "set(antArr)"
   ]
  },
  {
   "cell_type": "markdown",
   "metadata": {},
   "source": [
    "# WU-PALMAR SIMILARITY"
   ]
  },
  {
   "cell_type": "code",
   "execution_count": 32,
   "metadata": {},
   "outputs": [
    {
     "name": "stdout",
     "output_type": "stream",
     "text": [
      "[Synset('knife.n.01'), Synset('knife.n.02'), Synset('tongue.n.03'), Synset('knife.v.01')]\n",
      "Synset('knife.n.01')\n",
      "[Synset('edge_tool.n.01')]\n"
     ]
    }
   ],
   "source": [
    "from nltk.corpus import wordnet\n",
    "syn1=wordnet.synsets('knife')\n",
    "print(syn1)\n",
    "weap=syn1[0]\n",
    "print(weap)\n",
    "print(weap.hypernyms())"
   ]
  },
  {
   "cell_type": "code",
   "execution_count": 33,
   "metadata": {},
   "outputs": [
    {
     "name": "stdout",
     "output_type": "stream",
     "text": [
      "[Synset('ax.n.01'), Synset('axe.v.01'), Synset('ax.v.02')]\n",
      "Synset('ax.n.01')\n",
      "an edge tool with a heavy bladed head mounted across a handle\n",
      "[Synset('edge_tool.n.01')]\n"
     ]
    }
   ],
   "source": [
    "syn1=wordnet.synsets('axe')\n",
    "print(syn1)\n",
    "axe=syn1[0]\n",
    "print(axe)\n",
    "print(axe.definition())\n",
    "print(axe.hypernyms())"
   ]
  },
  {
   "cell_type": "code",
   "execution_count": 34,
   "metadata": {},
   "outputs": [
    {
     "data": {
      "text/plain": [
       "0.9166666666666666"
      ]
     },
     "execution_count": 34,
     "metadata": {},
     "output_type": "execute_result"
    }
   ],
   "source": [
    "weap.wup_similarity(axe)"
   ]
  },
  {
   "cell_type": "code",
   "execution_count": 35,
   "metadata": {},
   "outputs": [
    {
     "data": {
      "text/plain": [
       "2"
      ]
     },
     "execution_count": 35,
     "metadata": {},
     "output_type": "execute_result"
    }
   ],
   "source": [
    "weap.shortest_path_distance(axe)"
   ]
  },
  {
   "cell_type": "code",
   "execution_count": 36,
   "metadata": {},
   "outputs": [],
   "source": [
    "#there are also similarity functions are...path_similarity(),lch_similarity().."
   ]
  },
  {
   "cell_type": "markdown",
   "metadata": {},
   "source": [
    "# BIGRAMS"
   ]
  },
  {
   "cell_type": "code",
   "execution_count": 37,
   "metadata": {},
   "outputs": [
    {
     "data": {
      "text/plain": [
       "[(\"'\", 's'),\n",
       " ('jack', 'sparrow'),\n",
       " (']', '['),\n",
       " ('will', 'turner'),\n",
       " ('sparrow', ':'),\n",
       " ('elizabeth', 'swann'),\n",
       " ('turner', ':'),\n",
       " ('davy', 'jones'),\n",
       " ('swann', ':'),\n",
       " (\"'\", 't'),\n",
       " ('flying', 'dutchman'),\n",
       " ('lord', 'cutler'),\n",
       " ('cutler', 'beckett'),\n",
       " ('black', 'pearl'),\n",
       " ('gibbs', ':'),\n",
       " ('[', 'jack'),\n",
       " ('tia', 'dalma'),\n",
       " (\"'\", 're'),\n",
       " ('of', 'the'),\n",
       " ('!', '[')]"
      ]
     },
     "execution_count": 37,
     "metadata": {},
     "output_type": "execute_result"
    }
   ],
   "source": [
    "from nltk.corpus import webtext\n",
    "from nltk.collocations import BigramCollocationFinder\n",
    "from nltk.metrics import BigramAssocMeasures\n",
    "text=[w.lower() for w in webtext.words('pirates.txt')]\n",
    "finder=BigramCollocationFinder.from_words(text)\n",
    "finder.nbest(BigramAssocMeasures.likelihood_ratio,20)"
   ]
  },
  {
   "cell_type": "code",
   "execution_count": 38,
   "metadata": {},
   "outputs": [],
   "source": [
    "#here this function is to remove the bigram words contains punctutations..\n",
    "filter=lambda w: w in eng   #here eng=set of stopwors above"
   ]
  },
  {
   "cell_type": "code",
   "execution_count": 39,
   "metadata": {},
   "outputs": [
    {
     "data": {
      "text/plain": [
       "[('jack', 'sparrow'),\n",
       " (']', '['),\n",
       " ('sparrow', ':'),\n",
       " ('elizabeth', 'swann'),\n",
       " ('turner', ':'),\n",
       " ('davy', 'jones'),\n",
       " ('swann', ':'),\n",
       " ('flying', 'dutchman'),\n",
       " ('lord', 'cutler'),\n",
       " ('cutler', 'beckett'),\n",
       " ('black', 'pearl'),\n",
       " ('gibbs', ':'),\n",
       " ('[', 'jack'),\n",
       " ('tia', 'dalma'),\n",
       " ('!', '['),\n",
       " ('.', '['),\n",
       " ('scene', ':'),\n",
       " ('-', 'ha'),\n",
       " ('jones', ':'),\n",
       " ('ha', '-'),\n",
       " ('pintel', ':'),\n",
       " ('cannibal', 'island'),\n",
       " ('port', 'royal'),\n",
       " ('dalma', ':'),\n",
       " ('beckett', ':'),\n",
       " ('bamboo', 'pole'),\n",
       " (']', 'jack'),\n",
       " (':', 'oh'),\n",
       " ('&', 'ragetti'),\n",
       " ('-', 'heh'),\n",
       " ('heh', '-'),\n",
       " ('pintel', '&'),\n",
       " ('edinburgh', 'trader'),\n",
       " ('.', 'elizabeth'),\n",
       " (']', 'scene'),\n",
       " ('.', 'jack'),\n",
       " ('.', 'gibbs'),\n",
       " ('ragetti', ':'),\n",
       " ('east', 'india'),\n",
       " ('[', 'elizabeth')]"
      ]
     },
     "execution_count": 39,
     "metadata": {},
     "output_type": "execute_result"
    }
   ],
   "source": [
    "finder.apply_word_filter(filter)\n",
    "finder.nbest(BigramAssocMeasures.likelihood_ratio,40)"
   ]
  },
  {
   "cell_type": "markdown",
   "metadata": {},
   "source": [
    "# TRIGRAMS"
   ]
  },
  {
   "cell_type": "code",
   "execution_count": 40,
   "metadata": {},
   "outputs": [
    {
     "data": {
      "text/plain": [
       "[('[', 'boom', ']'),\n",
       " ('[', 'singing', ']'),\n",
       " ('[', 'music', ']'),\n",
       " ('[', 'clang', ']'),\n",
       " ('.', 'arthur', ':'),\n",
       " ('[', 'chanting', ']'),\n",
       " ('[', 'pause', ']'),\n",
       " ('[', 'squeak', ']'),\n",
       " ('[', 'thud', ']'),\n",
       " ('[', 'bonk', ']'),\n",
       " ('[', 'clunk', ']'),\n",
       " ('[', 'crash', ']'),\n",
       " ('[', 'howl', ']'),\n",
       " ('[', 'roar', ']'),\n",
       " ('[', 'kick', ']'),\n",
       " ('[', 'trumpets', ']'),\n",
       " ('[', 'twang', ']'),\n",
       " ('[', 'twong', ']'),\n",
       " ('[', 'whop', ']'),\n",
       " ('[', 'clank', ']')]"
      ]
     },
     "execution_count": 40,
     "metadata": {},
     "output_type": "execute_result"
    }
   ],
   "source": [
    "from nltk.corpus import webtext\n",
    "from nltk.collocations import TrigramCollocationFinder\n",
    "from nltk.metrics import TrigramAssocMeasures\n",
    "text=[w.lower() for w in webtext.words('grail.txt')]\n",
    "finder=TrigramCollocationFinder.from_words(text)\n",
    "finder.nbest(TrigramAssocMeasures.likelihood_ratio,20)"
   ]
  },
  {
   "cell_type": "code",
   "execution_count": 41,
   "metadata": {},
   "outputs": [],
   "source": [
    "filter=lambda w:w in eng"
   ]
  },
  {
   "cell_type": "code",
   "execution_count": 42,
   "metadata": {},
   "outputs": [
    {
     "data": {
      "text/plain": [
       "[('[', 'boom', ']'),\n",
       " ('[', 'singing', ']'),\n",
       " ('[', 'music', ']'),\n",
       " ('[', 'clang', ']'),\n",
       " ('.', 'arthur', ':'),\n",
       " ('[', 'chanting', ']'),\n",
       " ('[', 'pause', ']'),\n",
       " ('[', 'squeak', ']'),\n",
       " ('[', 'thud', ']'),\n",
       " ('[', 'bonk', ']'),\n",
       " ('[', 'clunk', ']'),\n",
       " ('[', 'crash', ']'),\n",
       " ('[', 'howl', ']'),\n",
       " ('[', 'roar', ']'),\n",
       " ('[', 'kick', ']'),\n",
       " ('[', 'trumpets', ']'),\n",
       " ('[', 'twang', ']'),\n",
       " ('[', 'twong', ']'),\n",
       " ('[', 'whop', ']'),\n",
       " ('[', 'clank', ']'),\n",
       " ('[', 'sigh', ']'),\n",
       " ('[', 'sniff', ']'),\n",
       " ('[', 'splat', ']'),\n",
       " ('[', 'wind', ']'),\n",
       " ('[', 'woosh', ']'),\n",
       " ('[', 'cough', ']'),\n",
       " ('[', 'taunting', ']'),\n",
       " ('[', 'creak', ']'),\n",
       " ('[', 'mayhem', ']'),\n",
       " ('[', 'splash', ']'),\n",
       " ('[', 'thump', ']'),\n",
       " ('[', 'whispering', ']'),\n",
       " ('[', 'yelling', ']'),\n",
       " ('[', 'dancing', ']'),\n",
       " ('[', 'baaaa', ']'),\n",
       " ('[', 'bang', ']'),\n",
       " ('[', 'bells', ']'),\n",
       " ('[', 'clack', ']'),\n",
       " ('[', 'clllank', ']'),\n",
       " ('[', 'crying', ']')]"
      ]
     },
     "execution_count": 42,
     "metadata": {},
     "output_type": "execute_result"
    }
   ],
   "source": [
    "finder.apply_word_filter(filter)\n",
    "finder.nbest(TrigramAssocMeasures.likelihood_ratio,40)"
   ]
  },
  {
   "cell_type": "code",
   "execution_count": 43,
   "metadata": {},
   "outputs": [
    {
     "data": {
      "text/plain": [
       "[('[', 'boom', ']'),\n",
       " ('[', 'singing', ']'),\n",
       " ('[', 'music', ']'),\n",
       " ('[', 'clang', ']'),\n",
       " ('.', 'arthur', ':'),\n",
       " ('[', 'chanting', ']'),\n",
       " ('[', 'pause', ']'),\n",
       " ('[', 'squeak', ']'),\n",
       " ('[', 'thud', ']'),\n",
       " ('[', 'bonk', ']'),\n",
       " ('[', 'clunk', ']'),\n",
       " ('[', 'crash', ']'),\n",
       " ('[', 'howl', ']'),\n",
       " ('[', 'roar', ']'),\n",
       " ('[', 'kick', ']'),\n",
       " ('[', 'trumpets', ']'),\n",
       " ('[', 'twang', ']'),\n",
       " ('[', 'twong', ']'),\n",
       " ('[', 'whop', ']'),\n",
       " ('[', 'clank', ']')]"
      ]
     },
     "execution_count": 43,
     "metadata": {},
     "output_type": "execute_result"
    }
   ],
   "source": [
    "finder.apply_freq_filter(3)\n",
    "finder.nbest(TrigramAssocMeasures.likelihood_ratio,20)"
   ]
  },
  {
   "cell_type": "markdown",
   "metadata": {},
   "source": [
    "# STEMMING & LEMMATIZER"
   ]
  },
  {
   "cell_type": "code",
   "execution_count": 44,
   "metadata": {},
   "outputs": [
    {
     "data": {
      "text/plain": [
       "'cook'"
      ]
     },
     "execution_count": 44,
     "metadata": {},
     "output_type": "execute_result"
    }
   ],
   "source": [
    "from nltk.stem import PorterStemmer\n",
    "from nltk.stem import LancasterStemmer\n",
    "from nltk.stem import RegexpStemmer\n",
    "\n",
    "pstem=PorterStemmer()\n",
    "pstem.stem('cooking')"
   ]
  },
  {
   "cell_type": "code",
   "execution_count": 45,
   "metadata": {},
   "outputs": [
    {
     "data": {
      "text/plain": [
       "'dant'"
      ]
     },
     "execution_count": 45,
     "metadata": {},
     "output_type": "execute_result"
    }
   ],
   "source": [
    "lstem=LancasterStemmer()\n",
    "lstem.stem('dancing')"
   ]
  },
  {
   "cell_type": "code",
   "execution_count": 46,
   "metadata": {},
   "outputs": [
    {
     "data": {
      "text/plain": [
       "'danc'"
      ]
     },
     "execution_count": 46,
     "metadata": {},
     "output_type": "execute_result"
    }
   ],
   "source": [
    "rstem=RegexpStemmer('ing')\n",
    "rstem.stem('dancing')"
   ]
  },
  {
   "cell_type": "code",
   "execution_count": 47,
   "metadata": {},
   "outputs": [
    {
     "data": {
      "text/plain": [
       "'write'"
      ]
     },
     "execution_count": 47,
     "metadata": {},
     "output_type": "execute_result"
    }
   ],
   "source": [
    "from nltk.stem import WordNetLemmatizer\n",
    "wl=WordNetLemmatizer()\n",
    "wl.lemmatize('writing',pos='v')"
   ]
  },
  {
   "cell_type": "code",
   "execution_count": 48,
   "metadata": {},
   "outputs": [
    {
     "name": "stdout",
     "output_type": "stream",
     "text": [
      "I won't come to school because she won't come so..\n",
      "I will not come to school because she will not come so..\n"
     ]
    }
   ],
   "source": [
    "##stemming and lemmatization...through REGEXP module\n",
    "import re\n",
    "reg=re.compile(r'won\\'t')\n",
    "text=\"I won't come to school because she won't come so..\"\n",
    "print(text)\n",
    "print(reg.sub('will not',text))"
   ]
  },
  {
   "cell_type": "code",
   "execution_count": 49,
   "metadata": {},
   "outputs": [
    {
     "name": "stdout",
     "output_type": "stream",
     "text": [
      "I won't come to school. He's gone mad. He'd have to go..\n",
      "I will not come to school. He is gone mad. He would have to go..\n"
     ]
    }
   ],
   "source": [
    "##by taking array of tuples of patterns to be replaced......\n",
    "text=\"I won't come to school. He's gone mad. He'd have to go..\"\n",
    "print(text)\n",
    "reg=[(r'won\\'t','will not'),(r'\\'s',' is'),(r'\\'d',' would')]\n",
    "for r,p in reg:\n",
    "    text=re.sub(r,p,text)\n",
    "print(text)"
   ]
  },
  {
   "cell_type": "markdown",
   "metadata": {},
   "source": [
    "# REMOVING EXTRA REPEATED CHARACTERS..."
   ]
  },
  {
   "cell_type": "code",
   "execution_count": 50,
   "metadata": {},
   "outputs": [
    {
     "name": "stdout",
     "output_type": "stream",
     "text": [
      "bottle\n",
      "bottle\n"
     ]
    }
   ],
   "source": [
    "import re\n",
    "from nltk.corpus import wordnet\n",
    "t='botttle'\n",
    "def remover(word):\n",
    "    if wordnet.synsets(word):\n",
    "        return word\n",
    "    s=re.sub(r'(\\w*)(\\w)\\2(\\w*)',r'\\1\\2\\3',word)\n",
    "    print(s)\n",
    "    if word == s:\n",
    "        return s\n",
    "    else:\n",
    "        return remover(s)\n",
    "print(remover(t))"
   ]
  },
  {
   "cell_type": "markdown",
   "metadata": {},
   "source": [
    "# REMOVING PUNCTUATTIONS..."
   ]
  },
  {
   "cell_type": "code",
   "execution_count": 53,
   "metadata": {},
   "outputs": [
    {
     "data": {
      "text/plain": [
       "'!\"#$%&\\'()*+,-./:;<=>?@[\\\\]^_`{|}~'"
      ]
     },
     "execution_count": 53,
     "metadata": {},
     "output_type": "execute_result"
    }
   ],
   "source": [
    "sample='Hi! #this is @vamshi, @koduri.'\n",
    "import string\n",
    "string.punctuation"
   ]
  },
  {
   "cell_type": "code",
   "execution_count": 54,
   "metadata": {},
   "outputs": [
    {
     "data": {
      "text/plain": [
       "['H',\n",
       " 'i',\n",
       " ' ',\n",
       " 't',\n",
       " 'h',\n",
       " 'i',\n",
       " 's',\n",
       " ' ',\n",
       " 'i',\n",
       " 's',\n",
       " ' ',\n",
       " 'v',\n",
       " 'a',\n",
       " 'm',\n",
       " 's',\n",
       " 'h',\n",
       " 'i',\n",
       " ' ',\n",
       " 'k',\n",
       " 'o',\n",
       " 'd',\n",
       " 'u',\n",
       " 'r',\n",
       " 'i']"
      ]
     },
     "execution_count": 54,
     "metadata": {},
     "output_type": "execute_result"
    }
   ],
   "source": [
    "free_punc=[letter for letter in sample if letter not in string.punctuation]\n",
    "free_punc"
   ]
  },
  {
   "cell_type": "code",
   "execution_count": 68,
   "metadata": {},
   "outputs": [
    {
     "data": {
      "text/plain": [
       "['Hi', 'this', 'is', 'vamshi', 'koduri']"
      ]
     },
     "execution_count": 68,
     "metadata": {},
     "output_type": "execute_result"
    }
   ],
   "source": [
    "sample=''.join(free_punc).split()\n",
    "sample"
   ]
  },
  {
   "cell_type": "code",
   "execution_count": 71,
   "metadata": {},
   "outputs": [
    {
     "data": {
      "text/plain": [
       "['Hi', 'vamshi', 'koduri']"
      ]
     },
     "execution_count": 71,
     "metadata": {},
     "output_type": "execute_result"
    }
   ],
   "source": [
    "from nltk.corpus import stopwords\n",
    "sample=[word for word in sample if word.lower() not in stopwords.words('english')] ##free from useless words...\n",
    "sample"
   ]
  },
  {
   "cell_type": "code",
   "execution_count": 72,
   "metadata": {},
   "outputs": [
    {
     "data": {
      "text/plain": [
       "'Hivamshikoduri'"
      ]
     },
     "execution_count": 72,
     "metadata": {},
     "output_type": "execute_result"
    }
   ],
   "source": [
    "sample=''.join(sample)\n",
    "sample"
   ]
  },
  {
   "cell_type": "code",
   "execution_count": null,
   "metadata": {},
   "outputs": [],
   "source": []
  }
 ],
 "metadata": {
  "kernelspec": {
   "display_name": "Python 3",
   "language": "python",
   "name": "python3"
  },
  "language_info": {
   "codemirror_mode": {
    "name": "ipython",
    "version": 3
   },
   "file_extension": ".py",
   "mimetype": "text/x-python",
   "name": "python",
   "nbconvert_exporter": "python",
   "pygments_lexer": "ipython3",
   "version": "3.7.3"
  }
 },
 "nbformat": 4,
 "nbformat_minor": 2
}
